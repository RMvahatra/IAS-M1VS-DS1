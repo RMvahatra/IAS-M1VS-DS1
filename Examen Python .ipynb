{
 "cells": [
  {
   "cell_type": "code",
   "execution_count": 77,
   "id": "b90a184c",
   "metadata": {},
   "outputs": [],
   "source": [
    "from IPython.display import Image"
   ]
  },
  {
   "cell_type": "markdown",
   "id": "852ba3ff",
   "metadata": {},
   "source": [
    "### Implémenter la fonction polynomiale"
   ]
  },
  {
   "cell_type": "code",
   "execution_count": 78,
   "id": "04c6380c",
   "metadata": {},
   "outputs": [
    {
     "data": {
      "text/html": [
       "<img src=\"https://i.ytimg.com/vi/PYS50pQ0Mz0/maxresdefault.jpg\"/>"
      ],
      "text/plain": [
       "<IPython.core.display.Image object>"
      ]
     },
     "execution_count": 78,
     "metadata": {},
     "output_type": "execute_result"
    }
   ],
   "source": [
    "url_poly = \"https://i.ytimg.com/vi/PYS50pQ0Mz0/maxresdefault.jpg\"\n",
    "Image(url=url_poly)"
   ]
  },
  {
   "cell_type": "code",
   "execution_count": 25,
   "id": "9380aad3",
   "metadata": {},
   "outputs": [],
   "source": [
    "def polynomiale(x):\n",
    "    \"\"\"\n",
    "    Fonction polynomiale de degrès 3\n",
    "    \"\"\"\n",
    "    y = x**3 - 1.5*(x**2) - 6*x +5\n",
    "    return print(f\"Polynome({x}) ={y}\")"
   ]
  },
  {
   "cell_type": "code",
   "execution_count": 27,
   "id": "73d3b3ad",
   "metadata": {},
   "outputs": [],
   "source": [
    "?polynomiale"
   ]
  },
  {
   "cell_type": "code",
   "execution_count": 26,
   "id": "1310d88b",
   "metadata": {},
   "outputs": [
    {
     "name": "stdout",
     "output_type": "stream",
     "text": [
      "Polynome(5) =62.5\n"
     ]
    }
   ],
   "source": [
    "#Test \n",
    "polynomiale(5)"
   ]
  },
  {
   "cell_type": "markdown",
   "id": "19c86ec1",
   "metadata": {},
   "source": [
    "### Implémenter la fonction factorielle"
   ]
  },
  {
   "cell_type": "code",
   "execution_count": 79,
   "id": "34b507f6",
   "metadata": {},
   "outputs": [
    {
     "data": {
      "text/html": [
       "<img src=\"https://th.bing.com/th/id/OIP.esOcpcPREF_Oyp2nuVeNdwAAAA?pid=ImgDet&rs=1\"/>"
      ],
      "text/plain": [
       "<IPython.core.display.Image object>"
      ]
     },
     "execution_count": 79,
     "metadata": {},
     "output_type": "execute_result"
    }
   ],
   "source": [
    "url_facto = \"https://th.bing.com/th/id/OIP.esOcpcPREF_Oyp2nuVeNdwAAAA?pid=ImgDet&rs=1\"\n",
    "Image(url=url_facto)"
   ]
  },
  {
   "cell_type": "code",
   "execution_count": 76,
   "id": "bd29c5ed",
   "metadata": {},
   "outputs": [],
   "source": [
    "def factorielle(n):\n",
    "    \"\"\"\n",
    "    Renvoie le factoriel du nombre en entrée \n",
    "    \"\"\"\n",
    "    #Initialisation\n",
    "    y = 1\n",
    "    \n",
    "    #Cas n=0\n",
    "    if n==0:\n",
    "        y = 1\n",
    "        \n",
    "    #Cas n différent de 0\n",
    "    else:\n",
    "        for i in range(n):\n",
    "            y = y*(i+1)\n",
    "    return print(f\"Factorielle({n}) ={y}\")"
   ]
  },
  {
   "cell_type": "code",
   "execution_count": 33,
   "id": "6a81f15e",
   "metadata": {},
   "outputs": [],
   "source": [
    "?factorielle"
   ]
  },
  {
   "cell_type": "code",
   "execution_count": 34,
   "id": "9ec571b1",
   "metadata": {},
   "outputs": [
    {
     "name": "stdout",
     "output_type": "stream",
     "text": [
      "Factorielle(5) =120\n"
     ]
    }
   ],
   "source": [
    "factorielle(5)"
   ]
  },
  {
   "cell_type": "markdown",
   "id": "23eb461b",
   "metadata": {},
   "source": [
    "### Implémenter la fonction Fibonacci"
   ]
  },
  {
   "cell_type": "code",
   "execution_count": 80,
   "id": "b9cf19b0",
   "metadata": {},
   "outputs": [
    {
     "data": {
      "text/html": [
       "<img src=\"https://www.albdel.com/wp-content/uploads/2019/07/What-is-the-Fibonacci-Sequence.png\"/>"
      ],
      "text/plain": [
       "<IPython.core.display.Image object>"
      ]
     },
     "execution_count": 80,
     "metadata": {},
     "output_type": "execute_result"
    }
   ],
   "source": [
    "url_fibo= \"https://www.albdel.com/wp-content/uploads/2019/07/What-is-the-Fibonacci-Sequence.png\"\n",
    "Image(url=url_fibo)"
   ]
  },
  {
   "cell_type": "code",
   "execution_count": 74,
   "id": "c23e9fba",
   "metadata": {},
   "outputs": [],
   "source": [
    "def fibonacci(n):\n",
    "    \"\"\"\n",
    "    Renvoie la suite Fibonacci\n",
    "    \"\"\"\n",
    "    #Initialisation\n",
    "    a, b = 0 ,1\n",
    "    liste = []\n",
    "    \n",
    "    while a<n:\n",
    "        liste.append(a)\n",
    "        a, b = b, a+b\n",
    "    return print(f\"Entrée un nombre : {n}\\nLa suite fibonnaci est\", liste)"
   ]
  },
  {
   "cell_type": "code",
   "execution_count": 75,
   "id": "e6ac2e74",
   "metadata": {},
   "outputs": [
    {
     "name": "stdout",
     "output_type": "stream",
     "text": [
      "Entrée un nombre : 6\n",
      "La suite fibonnaci est [0, 1, 1, 2, 3, 5]\n"
     ]
    }
   ],
   "source": [
    "fibonacci(6)"
   ]
  },
  {
   "cell_type": "markdown",
   "id": "c213e8f3",
   "metadata": {},
   "source": [
    "### Gestion des exeptions de la fonction polynomiale"
   ]
  },
  {
   "cell_type": "code",
   "execution_count": 1,
   "id": "7698009f",
   "metadata": {},
   "outputs": [],
   "source": [
    "def string(x):\n",
    "    \"\"\"\n",
    "    La fonction demande à l'utilisateur de saisir la valeur de x.\n",
    "    L'utilisateur devrait ressaisir la valeur de x tant le type saisi est une chaine de caractère.\n",
    "    \"\"\"\n",
    "\n",
    "    if (type(x)== str):\n",
    "        while True:\n",
    "            try :\n",
    "                x = int(input(\"Ressaisissez la valeur de  x:\"))\n",
    "                break\n",
    "            except:\n",
    "                print(\"Oops!  ce n'est pas validé.  Réessayez à nouveau...\")\n",
    " \n",
    "    return (x)"
   ]
  },
  {
   "cell_type": "code",
   "execution_count": 2,
   "id": "f144b4c8",
   "metadata": {},
   "outputs": [],
   "source": [
    "def complexe(x): \n",
    "    \"\"\"\n",
    "    La fonction demande à l'utilisateur de saisir la valeur de x.\n",
    "    Si le nombre est un complexe alors on ne tiendra compte que de la partie réelle.\n",
    "    \n",
    "    \"\"\"\n",
    "    if (type(x) == complex):\n",
    "        x = x.real # On prend la partie réelle du nombre \n",
    "    return (x)"
   ]
  },
  {
   "cell_type": "code",
   "execution_count": 3,
   "id": "bdc7f122",
   "metadata": {},
   "outputs": [],
   "source": [
    "def neg(x):\n",
    "    \"\"\"\n",
    "    La fonction demande à l'utilisateur de saisir la valeur de x.\n",
    "    La fonction retourne la valeur absolue de x\n",
    "    \n",
    "    \"\"\"\n",
    "    x = abs(x)\n",
    "    return (x)"
   ]
  },
  {
   "cell_type": "code",
   "execution_count": 4,
   "id": "802f33f1",
   "metadata": {},
   "outputs": [],
   "source": [
    "def limite(x, borne):\n",
    "    \"\"\"\n",
    "    La fonction demande à l'utilisateur de saisir la valeur de x.\n",
    "    L'utilisateur devrait ressaisir la valeur de x tant que la longueur de ce dernier excède les limites imposées.\n",
    "    \"\"\"\n",
    "    if (len(str(x)) > borne): \n",
    "        while (len(str(x)) > borne) :\n",
    "            print(f\"Le nombre saisie comporte plus de {borne} digit, Veuillez le resaisir.\") \n",
    "            x = int(input(\"Ressaisir x:\"))\n",
    "            x=x\n",
    "    else:\n",
    "        pass\n",
    "\n",
    "    return (x)"
   ]
  },
  {
   "cell_type": "code",
   "execution_count": 33,
   "id": "44872b24",
   "metadata": {},
   "outputs": [],
   "source": [
    "def minim(x, borne):\n",
    "     \"\"\"\n",
    "    La fonction demande à l'utilisateur de saisir la valeur de x.\n",
    "    L'utilisateur devrait ressaisir la valeur de x tant que la longueur de ce dernier est inférieur aux limites imposées.\n",
    "    \"\"\"\n",
    "    if (len(str(x)) < borne): \n",
    "        while (len(str(x)) < borne) :\n",
    "            print(f\"Le nombre saisie comporte plus de {borne} digit, Veuillez le resaisir.\") \n",
    "            x = int(input(\"Ressaisir x:\"))\n",
    "            x=x\n",
    "    else:\n",
    "        pass\n",
    "\n",
    "    return (x)"
   ]
  },
  {
   "cell_type": "code",
   "execution_count": 61,
   "id": "313a3021",
   "metadata": {},
   "outputs": [
    {
     "name": "stdout",
     "output_type": "stream",
     "text": [
      "Ressaisissez la valeur de  x:dnzbkj\n",
      "Oops!  ce n'est pas validé.  Réessayez à nouveau...\n",
      "Ressaisissez la valeur de  x:dbzu\n",
      "Oops!  ce n'est pas validé.  Réessayez à nouveau...\n",
      "Ressaisissez la valeur de  x:179\n"
     ]
    },
    {
     "data": {
      "text/plain": [
       "179"
      ]
     },
     "execution_count": 61,
     "metadata": {},
     "output_type": "execute_result"
    }
   ],
   "source": [
    "#Test 1\n",
    "string(\"nbj\")"
   ]
  },
  {
   "cell_type": "code",
   "execution_count": 9,
   "id": "337ce1ba",
   "metadata": {},
   "outputs": [
    {
     "data": {
      "text/plain": [
       "17.0"
      ]
     },
     "execution_count": 9,
     "metadata": {},
     "output_type": "execute_result"
    }
   ],
   "source": [
    "# Test 2\n",
    "complexe(17 +17j)"
   ]
  },
  {
   "cell_type": "code",
   "execution_count": 63,
   "id": "65ce56ef",
   "metadata": {},
   "outputs": [
    {
     "data": {
      "text/plain": [
       "17890"
      ]
     },
     "execution_count": 63,
     "metadata": {},
     "output_type": "execute_result"
    }
   ],
   "source": [
    "# Test 3\n",
    "neg(-17890)"
   ]
  },
  {
   "cell_type": "code",
   "execution_count": 65,
   "id": "831a69f0",
   "metadata": {},
   "outputs": [
    {
     "name": "stdout",
     "output_type": "stream",
     "text": [
      "Le nombre saisie comporte plus de 3 digit, Veuillez le resaisir.\n",
      "Ressaisir x:3710\n",
      "Le nombre saisie comporte plus de 3 digit, Veuillez le resaisir.\n",
      "Ressaisir x:39883\n",
      "Le nombre saisie comporte plus de 3 digit, Veuillez le resaisir.\n",
      "Ressaisir x:178\n"
     ]
    },
    {
     "data": {
      "text/plain": [
       "178"
      ]
     },
     "execution_count": 65,
     "metadata": {},
     "output_type": "execute_result"
    }
   ],
   "source": [
    "# Test 4\n",
    "limite(1678, 3)"
   ]
  },
  {
   "cell_type": "code",
   "execution_count": 30,
   "id": "bad53fd9",
   "metadata": {},
   "outputs": [
    {
     "name": "stdout",
     "output_type": "stream",
     "text": [
      "Le nombre saisie comporte plus de 2 digit, Veuillez le resaisir.\n",
      "Ressaisir x:9\n",
      "Le nombre saisie comporte plus de 2 digit, Veuillez le resaisir.\n",
      "Ressaisir x:8\n",
      "Le nombre saisie comporte plus de 2 digit, Veuillez le resaisir.\n",
      "Ressaisir x:25\n"
     ]
    },
    {
     "data": {
      "text/plain": [
       "25"
      ]
     },
     "execution_count": 30,
     "metadata": {},
     "output_type": "execute_result"
    }
   ],
   "source": [
    "# Test 5\n",
    "minim(1, 2)"
   ]
  },
  {
   "cell_type": "code",
   "execution_count": 34,
   "id": "c4323b5b",
   "metadata": {},
   "outputs": [],
   "source": [
    "def factorielle(x):\n",
    "    \"\"\"\n",
    "    Renvoie le factoriel du nombre en entrée \n",
    "    \"\"\"\n",
    "    \n",
    "    ##############################################################################################\n",
    "    #### TYPE 1: Chaine de caractère\n",
    "    ##############################################################################################\n",
    "    \n",
    "    \n",
    "    if (type(x) == str) : \n",
    "        x = string(x)                   \n",
    "                    \n",
    "    ##############################################################################################\n",
    "    #### TYPE 2: Nombre complexe\n",
    "    ##############################################################################################\n",
    "    if (type(x) == complex): \n",
    "        x = int(complexe(x))\n",
    "  \n",
    "\n",
    "    ##############################################################################################\n",
    "    #### TYPE 3: Nombre négatif\n",
    "    ##############################################################################################\n",
    "    \n",
    "    if (type(x) in [int, float]) :\n",
    "        x = neg(x)\n",
    "\n",
    "        \n",
    "    ##############################################################################################\n",
    "    #### TYPE 4: Nombre Borné\n",
    "    ##############################################################################################    \n",
    "    if (len(str(x)) > 3) : \n",
    "        x = limite(x, 3)\n",
    "\n",
    "    ##############################################################################################\n",
    "    #### TYPE 4: Minimum\n",
    "    ##############################################################################################    \n",
    "    if (len(str(x)) < 2) : \n",
    "        x = minim(x, 2)\n",
    "\n",
    "    #Initialisation\n",
    "    y = 1\n",
    "    \n",
    "    #Cas n=0\n",
    "    if x==0:\n",
    "        y = 1\n",
    "        \n",
    "    #Cas n différent de 0\n",
    "    else:\n",
    "        for i in range(x):\n",
    "            y = y*(i+1)\n",
    "    return print(f\"Factorielle({x}) ={y}\")"
   ]
  },
  {
   "cell_type": "code",
   "execution_count": 17,
   "id": "363222a5",
   "metadata": {},
   "outputs": [
    {
     "name": "stdout",
     "output_type": "stream",
     "text": [
      "Ressaisissez la valeur de  x:ndzjiad\n",
      "Oops!  ce n'est pas validé.  Réessayez à nouveau...\n",
      "Ressaisissez la valeur de  x:dnzj\n",
      "Oops!  ce n'est pas validé.  Réessayez à nouveau...\n",
      "Ressaisissez la valeur de  x:ndjz\n",
      "Oops!  ce n'est pas validé.  Réessayez à nouveau...\n",
      "Ressaisissez la valeur de  x:20\n",
      "Factorielle(20) =2432902008176640000\n"
     ]
    }
   ],
   "source": [
    "# Test_1\n",
    "factorielle(\"ndjknd\")"
   ]
  },
  {
   "cell_type": "code",
   "execution_count": 18,
   "id": "a6ff3e70",
   "metadata": {},
   "outputs": [
    {
     "name": "stdout",
     "output_type": "stream",
     "text": [
      "Factorielle(20) =2432902008176640000\n"
     ]
    }
   ],
   "source": [
    "# Test_2\n",
    "factorielle(20+ 16j)"
   ]
  },
  {
   "cell_type": "code",
   "execution_count": 19,
   "id": "aabe4298",
   "metadata": {
    "scrolled": true
   },
   "outputs": [
    {
     "name": "stdout",
     "output_type": "stream",
     "text": [
      "Factorielle(20) =2432902008176640000\n"
     ]
    }
   ],
   "source": [
    "# Test_3\n",
    "factorielle(-20)"
   ]
  },
  {
   "cell_type": "code",
   "execution_count": 23,
   "id": "57a8a1fe",
   "metadata": {},
   "outputs": [
    {
     "name": "stdout",
     "output_type": "stream",
     "text": [
      "Le nombre saisie comporte plus de 2 digit, Veuillez le resaisir.\n",
      "Ressaisir x:20\n",
      "Factorielle(20) =2432902008176640000\n"
     ]
    }
   ],
   "source": [
    "# Test_3\n",
    "factorielle(789)"
   ]
  },
  {
   "cell_type": "code",
   "execution_count": 35,
   "id": "dc986365",
   "metadata": {},
   "outputs": [
    {
     "name": "stdout",
     "output_type": "stream",
     "text": [
      "Le nombre saisie comporte plus de 2 digit, Veuillez le resaisir.\n",
      "Ressaisir x:8\n",
      "Le nombre saisie comporte plus de 2 digit, Veuillez le resaisir.\n",
      "Ressaisir x:1\n",
      "Le nombre saisie comporte plus de 2 digit, Veuillez le resaisir.\n",
      "Ressaisir x:3\n",
      "Le nombre saisie comporte plus de 2 digit, Veuillez le resaisir.\n",
      "Ressaisir x:20\n",
      "Factorielle(20) =2432902008176640000\n"
     ]
    }
   ],
   "source": [
    "# Test_4\n",
    "factorielle(9)"
   ]
  },
  {
   "cell_type": "markdown",
   "id": "c74c6a4f",
   "metadata": {},
   "source": [
    "### Bonus"
   ]
  },
  {
   "cell_type": "code",
   "execution_count": 36,
   "id": "1f82782b",
   "metadata": {},
   "outputs": [],
   "source": [
    "\n",
    "import numpy as np\n",
    "import scipy.stats as si"
   ]
  },
  {
   "cell_type": "code",
   "execution_count": 37,
   "id": "7c42d6d3",
   "metadata": {},
   "outputs": [],
   "source": [
    "\n",
    "def BSM(S, X, T, r, sigma):    \n",
    "    \"\"\"\n",
    "    L’équation C évalue le prix d’une option d’achat (call option).\n",
    "    Alors que l’équation P calcule le prix d’une option de vente (put option). \n",
    "    \n",
    "    S = Prix actuel de l’action\n",
    "    X = Prix d’exercice de l’option\n",
    "    T = Temps restant avant l’expiration de l’option, en pourcentage d’une année\n",
    "    r = Taux d’intérêt sans risque\n",
    "    σ = volatilité implicite du prix de l’action, mesurée par un décimal\n",
    "    \n",
    "    \"\"\"\n",
    "    \n",
    "    d1 = (np.log(S / X) + (r +  (sigma ** 2)) * T) / (sigma * np.sqrt(T))\n",
    "    d2 = (np.log(S / X) + (r -  (sigma ** 2)) * T) / (sigma * np.sqrt(T))\n",
    "    \n",
    "    Call_option = (S * si.norm.cdf(d1) - X * np.exp(-r * T) * si.norm.cdf(d2))\n",
    "    # CDF of the standard normal distribution (μ = 0 and σ = 1). Probability of less than x ∈ [d1; d2]\n",
    "    \n",
    "    Put_option = (X * np.exp(-r * T) * si.norm.cdf(-d2) -S * si.norm.cdf(-d1))\n",
    "    \n",
    "    return (Call_option, Put_option)"
   ]
  }
 ],
 "metadata": {
  "kernelspec": {
   "display_name": "Python 3 (ipykernel)",
   "language": "python",
   "name": "python3"
  },
  "language_info": {
   "codemirror_mode": {
    "name": "ipython",
    "version": 3
   },
   "file_extension": ".py",
   "mimetype": "text/x-python",
   "name": "python",
   "nbconvert_exporter": "python",
   "pygments_lexer": "ipython3",
   "version": "3.8.12"
  }
 },
 "nbformat": 4,
 "nbformat_minor": 5
}
